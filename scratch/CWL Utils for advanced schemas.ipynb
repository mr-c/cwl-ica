{
 "cells": [
  {
   "cell_type": "markdown",
   "id": "54849df3",
   "metadata": {},
   "source": [
    "## Preface"
   ]
  },
  {
   "cell_type": "markdown",
   "id": "0d09a7bf",
   "metadata": {},
   "source": [
    "## RecordSchema\n",
    "\n",
    "```typescript\n",
    "export interface RecordSchema {\n",
    "\n",
    "\n",
    "    /**\n",
    "     * Must be `record`\n",
    "     */\n",
    "    type: \"record\";\n",
    "\n",
    "\n",
    "    /**\n",
    "     * Defines the fields of the record.\n",
    "     */\n",
    "    fields?: RecordField[];\n",
    "\n",
    "}\n",
    "```"
   ]
  },
  {
   "cell_type": "markdown",
   "id": "7cd18931",
   "metadata": {},
   "source": [
    "## Record Field\n",
    "\n",
    "```typescript\n",
    "export interface RecordField {\n",
    "\n",
    "    label?: string;\n",
    "\n",
    "\n",
    "    /**\n",
    "     * The name of the field\n",
    "     *\n",
    "     */\n",
    "    name: string;\n",
    "\n",
    "\n",
    "    /**\n",
    "     * A documentation string for this field\n",
    "     *\n",
    "     */\n",
    "    doc?: string;\n",
    "\n",
    "\n",
    "    /**\n",
    "     * The field type\n",
    "     *\n",
    "     */\n",
    "    type: PrimitiveType | RecordSchema | EnumSchema | ArraySchema | string | Array<PrimitiveType | RecordSchema | EnumSchema | ArraySchema | string>;\n",
    "\n",
    "}\n",
    "```"
   ]
  },
  {
   "cell_type": "markdown",
   "id": "d2cfe340",
   "metadata": {},
   "source": [
    "## Primitive Type\n",
    "\n",
    "```typescript\n",
    "/**\n",
    " * Salad data types are based on Avro schema declarations.  Refer to the\n",
    " [Avro schema declaration documentation](https://avro.apache.org/docs/current/spec.html#schemas) for\n",
    " detailed information.\n",
    " ,null: no value,boolean: a binary value,int: 32-bit signed integer,long: 64-bit signed integer,float: single precision (32-bit) IEEE 754 floating-point number,double: double precision (64-bit) IEEE 754 floating-point number,string: Unicode character sequence\n",
    " */\n",
    "export type PrimitiveType = \"null\" | \"boolean\" | \"int\" | \"long\" | \"float\" | \"double\" | \"string\";\n",
    "```"
   ]
  },
  {
   "cell_type": "markdown",
   "id": "a8e416fc",
   "metadata": {},
   "source": [
    "## Goals\n",
    "\n",
    "Determine if the *type* is:\n",
    "  * optional\n",
    "  * an array\n",
    "\n",
    "Then determine which *type* we're dealing with\n",
    "\n",
    "What do we do if the type value is an `import`. We assume a second record schema, use the label attribute to assign type?\n",
    "\n",
    "Do we need to generate a TS interface for the imported schema first? - Could this work recursively?\n",
    "\n",
    "\n"
   ]
  },
  {
   "cell_type": "code",
   "execution_count": 2,
   "id": "24d82e1b",
   "metadata": {},
   "outputs": [],
   "source": [
    "from pathlib import Path\n",
    "import json\n",
    "from cwl_utils.parser_v1_1 import RecordSchema, load_document_by_yaml\n",
    "from ruamel.yaml.comments import CommentedMap as OrderedDict\n",
    "from ruamel import yaml\n",
    "\n",
    "from cwl_utils.graph_split import rewrite_schemadef, rewrite\n",
    "from pprint import pprint"
   ]
  },
  {
   "cell_type": "code",
   "execution_count": 3,
   "id": "106305ce",
   "metadata": {},
   "outputs": [],
   "source": [
    "CWL_FILE_PATH = Path(\"../schemas/samplesheet/1.0.0/samplesheet__1.0.0.yaml\")\n",
    "\n",
    "# TODO - pull in multiple CWL File paths here so we can see the differences in complexities\n"
   ]
  },
  {
   "cell_type": "code",
   "execution_count": 36,
   "id": "a81c739d",
   "metadata": {},
   "outputs": [],
   "source": [
    "import cwltool"
   ]
  },
  {
   "cell_type": "code",
   "execution_count": 88,
   "id": "2046ca0d",
   "metadata": {},
   "outputs": [],
   "source": [
    "def import_cwl_yaml(cwl_file_path):\n",
    "    # Read in the cwl file from a yaml\n",
    "    with open(cwl_file_path, \"r\") as cwl_h:\n",
    "        yaml_obj = yaml.main.round_trip_load(cwl_h, preserve_quotes=True)\n",
    "\n",
    "    return RecordSchema(yaml_obj)"
   ]
  },
  {
   "cell_type": "code",
   "execution_count": 92,
   "id": "ad072041",
   "metadata": {},
   "outputs": [],
   "source": [
    "with open(CWL_FILE_PATH, \"r\") as cwl_h:\n",
    "    yaml_obj = yaml.main.round_trip_load(cwl_h, preserve_quotes=True)"
   ]
  },
  {
   "cell_type": "code",
   "execution_count": 93,
   "id": "10149293",
   "metadata": {
    "scrolled": true
   },
   "outputs": [
    {
     "data": {
      "text/plain": [
       "ordereddict([('type', 'record'), ('name', 'samplesheet'), ('fields', ordereddict([('header', ordereddict([('label', 'samplesheet header'), ('doc', 'The samplesheet header object\\n'), ('type', [ordereddict([('$import', '../../../schemas/samplesheet-header/1.0.0/samplesheet-header__1.0.0.yaml#samplesheet-header')])])])), ('reads', ordereddict([('label', 'reads'), ('doc', 'The reads\\n'), ('type', [ordereddict([('$import', '../../../schemas/samplesheet-reads/1.0.0/samplesheet-reads__1.0.0.yaml#samplesheet-reads')])])])), ('bclconvert_settings', ordereddict([('label', 'BCLConvert Settings section'), ('doc', 'The bclconvert settings used for demux\\n'), ('type', [ordereddict([('$import', '../../../schemas/bclconvert-settings/3.10.5/bclconvert-settings__3.10.5.yaml#bclconvert-settings')])])])), ('bclconvert_data', ordereddict([('label', 'BCLConvert Data section'), ('doc', 'The array of bclconvert data objects\\n'), ('type', ordereddict([('type', 'array'), ('items', ordereddict([('$import', '../../../schemas/bclconvert-data-row/3.10.5/bclconvert-data-row__3.10.5.yaml#bclconvert-data-row')]))]))]))]))])"
      ]
     },
     "execution_count": 93,
     "metadata": {},
     "output_type": "execute_result"
    }
   ],
   "source": [
    "yaml_obj"
   ]
  },
  {
   "cell_type": "code",
   "execution_count": 95,
   "id": "7959aa43",
   "metadata": {},
   "outputs": [
    {
     "name": "stdout",
     "output_type": "stream",
     "text": [
      "{'fields': {'bclconvert_data': {'doc': 'The array of bclconvert data objects\\n',\n",
      "                                'label': 'BCLConvert Data section',\n",
      "                                'type': {'items': {'$import': '../../../schemas/bclconvert-data-row/3.10.5/bclconvert-data-row__3.10.5.yaml#bclconvert-data-row'},\n",
      "                                         'type': 'array'}},\n",
      "            'bclconvert_settings': {'doc': 'The bclconvert settings used for '\n",
      "                                           'demux\\n',\n",
      "                                    'label': 'BCLConvert Settings section',\n",
      "                                    'type': [ordereddict([('$import', '../../../schemas/bclconvert-settings/3.10.5/bclconvert-settings__3.10.5.yaml#bclconvert-settings')])]},\n",
      "            'header': {'doc': 'The samplesheet header object\\n',\n",
      "                       'label': 'samplesheet header',\n",
      "                       'type': [ordereddict([('$import', '../../../schemas/samplesheet-header/1.0.0/samplesheet-header__1.0.0.yaml#samplesheet-header')])]},\n",
      "            'reads': {'doc': 'The reads\\n',\n",
      "                      'label': 'reads',\n",
      "                      'type': [ordereddict([('$import', '../../../schemas/samplesheet-reads/1.0.0/samplesheet-reads__1.0.0.yaml#samplesheet-reads')])]}},\n",
      " 'name': 'samplesheet',\n",
      " 'type': 'record'}\n"
     ]
    }
   ],
   "source": [
    "pprint(yaml_obj)"
   ]
  },
  {
   "cell_type": "code",
   "execution_count": 97,
   "id": "f55883b6",
   "metadata": {},
   "outputs": [],
   "source": [
    "z = RecordSchema(yaml_obj.get(\"fields\"))"
   ]
  },
  {
   "cell_type": "code",
   "execution_count": 103,
   "id": "3afe9df9",
   "metadata": {},
   "outputs": [
    {
     "data": {
      "text/plain": [
       "{'extension_fields': ordereddict(),\n",
       " 'loadingOptions': <cwl_utils.parser_v1_1.LoadingOptions at 0x7f8302e39dc0>,\n",
       " 'fields': None,\n",
       " 'type': ordereddict([('header', ordereddict([('label', 'samplesheet header'), ('doc', 'The samplesheet header object\\n'), ('type', [ordereddict([('$import', '../../../schemas/samplesheet-header/1.0.0/samplesheet-header__1.0.0.yaml#samplesheet-header')])])])), ('reads', ordereddict([('label', 'reads'), ('doc', 'The reads\\n'), ('type', [ordereddict([('$import', '../../../schemas/samplesheet-reads/1.0.0/samplesheet-reads__1.0.0.yaml#samplesheet-reads')])])])), ('bclconvert_settings', ordereddict([('label', 'BCLConvert Settings section'), ('doc', 'The bclconvert settings used for demux\\n'), ('type', [ordereddict([('$import', '../../../schemas/bclconvert-settings/3.10.5/bclconvert-settings__3.10.5.yaml#bclconvert-settings')])])])), ('bclconvert_data', ordereddict([('label', 'BCLConvert Data section'), ('doc', 'The array of bclconvert data objects\\n'), ('type', ordereddict([('type', 'array'), ('items', ordereddict([('$import', '../../../schemas/bclconvert-data-row/3.10.5/bclconvert-data-row__3.10.5.yaml#bclconvert-data-row')]))]))]))])}"
      ]
     },
     "execution_count": 103,
     "metadata": {},
     "output_type": "execute_result"
    }
   ],
   "source": [
    "z.__dict__"
   ]
  },
  {
   "cell_type": "code",
   "execution_count": 109,
   "id": "7d393ebe",
   "metadata": {},
   "outputs": [
    {
     "name": "stdout",
     "output_type": "stream",
     "text": [
      "Key: header\n",
      "Value:\n",
      "{   'doc': 'The samplesheet header object\\n',\n",
      "    'label': 'samplesheet header',\n",
      "    'type': [ordereddict([('$import', '../../../schemas/samplesheet-header/1.0.0/samplesheet-header__1.0.0.yaml#samplesheet-header')])]}\n",
      "Value type:\n",
      "[ordereddict([('$import', '../../../schemas/samplesheet-header/1.0.0/samplesheet-header__1.0.0.yaml#samplesheet-header')])]\n",
      "\n",
      "\n",
      "Key: reads\n",
      "Value:\n",
      "{   'doc': 'The reads\\n',\n",
      "    'label': 'reads',\n",
      "    'type': [ordereddict([('$import', '../../../schemas/samplesheet-reads/1.0.0/samplesheet-reads__1.0.0.yaml#samplesheet-reads')])]}\n",
      "Value type:\n",
      "[ordereddict([('$import', '../../../schemas/samplesheet-reads/1.0.0/samplesheet-reads__1.0.0.yaml#samplesheet-reads')])]\n",
      "\n",
      "\n",
      "Key: bclconvert_settings\n",
      "Value:\n",
      "{   'doc': 'The bclconvert settings used for demux\\n',\n",
      "    'label': 'BCLConvert Settings section',\n",
      "    'type': [ordereddict([('$import', '../../../schemas/bclconvert-settings/3.10.5/bclconvert-settings__3.10.5.yaml#bclconvert-settings')])]}\n",
      "Value type:\n",
      "[ordereddict([('$import', '../../../schemas/bclconvert-settings/3.10.5/bclconvert-settings__3.10.5.yaml#bclconvert-settings')])]\n",
      "\n",
      "\n",
      "Key: bclconvert_data\n",
      "Value:\n",
      "{   'doc': 'The array of bclconvert data objects\\n',\n",
      "    'label': 'BCLConvert Data section',\n",
      "    'type': {   'items': {   '$import': '../../../schemas/bclconvert-data-row/3.10.5/bclconvert-data-row__3.10.5.yaml#bclconvert-data-row'},\n",
      "                'type': 'array'}}\n",
      "Value type:\n",
      "{'items': {'$import': '../../../schemas/bclconvert-data-row/3.10.5/bclconvert-data-row__3.10.5.yaml#bclconvert-data-row'},\n",
      " 'type': 'array'}\n",
      "\n",
      "\n"
     ]
    }
   ],
   "source": [
    "for key, value_dict in dict(z.type).items():\n",
    "    print(f\"Key: {key}\")\n",
    "    print(\"Value:\")\n",
    "    pprint(value_dict, indent=4)\n",
    "    print(f\"Value type:\")\n",
    "    pprint(value_dict.get(\"type\"))\n",
    "    print(\"\\n\")"
   ]
  },
  {
   "cell_type": "code",
   "execution_count": 81,
   "id": "88589163",
   "metadata": {},
   "outputs": [
    {
     "data": {
      "text/plain": [
       "['__class__',\n",
       " '__delattr__',\n",
       " '__dict__',\n",
       " '__dir__',\n",
       " '__doc__',\n",
       " '__eq__',\n",
       " '__format__',\n",
       " '__ge__',\n",
       " '__getattribute__',\n",
       " '__gt__',\n",
       " '__hash__',\n",
       " '__init__',\n",
       " '__init_subclass__',\n",
       " '__le__',\n",
       " '__lt__',\n",
       " '__module__',\n",
       " '__ne__',\n",
       " '__new__',\n",
       " '__reduce__',\n",
       " '__reduce_ex__',\n",
       " '__repr__',\n",
       " '__setattr__',\n",
       " '__sizeof__',\n",
       " '__str__',\n",
       " '__subclasshook__',\n",
       " '__weakref__',\n",
       " 'attrs',\n",
       " 'extension_fields',\n",
       " 'fields',\n",
       " 'fromDoc',\n",
       " 'loadingOptions',\n",
       " 'save',\n",
       " 'type']"
      ]
     },
     "execution_count": 81,
     "metadata": {},
     "output_type": "execute_result"
    }
   ],
   "source": [
    "dir(x)"
   ]
  },
  {
   "cell_type": "code",
   "execution_count": 86,
   "id": "b1e71803",
   "metadata": {},
   "outputs": [
    {
     "data": {
      "text/plain": [
       "ordereddict([('type', 'record'), ('name', 'samplesheet'), ('fields', ordereddict([('header', ordereddict([('label', 'samplesheet header'), ('doc', 'The samplesheet header object\\n'), ('type', [ordereddict([('$import', '.')])])])), ('reads', ordereddict([('label', 'reads'), ('doc', 'The reads\\n'), ('type', [ordereddict([('$import', '.')])])])), ('bclconvert_settings', ordereddict([('label', 'BCLConvert Settings section'), ('doc', 'The bclconvert settings used for demux\\n'), ('type', [ordereddict([('$import', '.')])])])), ('bclconvert_data', ordereddict([('label', 'BCLConvert Data section'), ('doc', 'The array of bclconvert data objects\\n'), ('type', ordereddict([('type', 'array'), ('items', ordereddict([('$import', '../../../schemas/bclconvert-data-row/3.10.5/bclconvert-data-row__3.10.5.yaml#bclconvert-data-row')]))]))]))]))])"
      ]
     },
     "execution_count": 86,
     "metadata": {},
     "output_type": "execute_result"
    }
   ],
   "source": [
    "x.type"
   ]
  },
  {
   "cell_type": "code",
   "execution_count": 79,
   "id": "a1b606a0",
   "metadata": {},
   "outputs": [
    {
     "data": {
      "text/plain": [
       "ordereddict([('type', {'type': 'record', 'name': 'samplesheet', 'fields': {'header': {'label': 'samplesheet header', 'doc': 'The samplesheet header object\\n', 'type': [{'$import': '.'}]}, 'reads': {'label': 'reads', 'doc': 'The reads\\n', 'type': [{'$import': '.'}]}, 'bclconvert_settings': {'label': 'BCLConvert Settings section', 'doc': 'The bclconvert settings used for demux\\n', 'type': [{'$import': '.'}]}, 'bclconvert_data': {'label': 'BCLConvert Data section', 'doc': 'The array of bclconvert data objects\\n', 'type': {'type': 'array', 'items': {'$import': '../../../schemas/bclconvert-data-row/3.10.5/bclconvert-data-row__3.10.5.yaml#bclconvert-data-row'}}}}})])"
      ]
     },
     "execution_count": 79,
     "metadata": {},
     "output_type": "execute_result"
    }
   ],
   "source": [
    "x.save()"
   ]
  },
  {
   "cell_type": "code",
   "execution_count": 74,
   "id": "328279c9",
   "metadata": {},
   "outputs": [
    {
     "data": {
      "text/plain": [
       "{'idx': {},\n",
       " 'fileuri': None,\n",
       " 'namespaces': None,\n",
       " 'schemas': None,\n",
       " 'original_doc': None,\n",
       " 'fetcher': <schema_salad.fetcher.DefaultFetcher at 0x7f83082787c0>,\n",
       " 'vocab': {'Any': 'https://w3id.org/cwl/salad#Any',\n",
       "  'ArraySchema': 'https://w3id.org/cwl/salad#ArraySchema',\n",
       "  'CWLType': 'https://w3id.org/cwl/cwl#CWLType',\n",
       "  'CWLVersion': 'https://w3id.org/cwl/cwl#CWLVersion',\n",
       "  'CommandInputArraySchema': 'https://w3id.org/cwl/cwl#CommandInputArraySchema',\n",
       "  'CommandInputEnumSchema': 'https://w3id.org/cwl/cwl#CommandInputEnumSchema',\n",
       "  'CommandInputParameter': 'https://w3id.org/cwl/cwl#CommandInputParameter',\n",
       "  'CommandInputRecordField': 'https://w3id.org/cwl/cwl#CommandInputRecordField',\n",
       "  'CommandInputRecordSchema': 'https://w3id.org/cwl/cwl#CommandInputRecordSchema',\n",
       "  'CommandInputSchema': 'https://w3id.org/cwl/cwl#CommandInputSchema',\n",
       "  'CommandLineBindable': 'https://w3id.org/cwl/cwl#CommandLineBindable',\n",
       "  'CommandLineBinding': 'https://w3id.org/cwl/cwl#CommandLineBinding',\n",
       "  'CommandLineTool': 'https://w3id.org/cwl/cwl#CommandLineTool',\n",
       "  'CommandOutputArraySchema': 'https://w3id.org/cwl/cwl#CommandOutputArraySchema',\n",
       "  'CommandOutputBinding': 'https://w3id.org/cwl/cwl#CommandOutputBinding',\n",
       "  'CommandOutputEnumSchema': 'https://w3id.org/cwl/cwl#CommandOutputEnumSchema',\n",
       "  'CommandOutputParameter': 'https://w3id.org/cwl/cwl#CommandOutputParameter',\n",
       "  'CommandOutputRecordField': 'https://w3id.org/cwl/cwl#CommandOutputRecordField',\n",
       "  'CommandOutputRecordSchema': 'https://w3id.org/cwl/cwl#CommandOutputRecordSchema',\n",
       "  'Directory': 'https://w3id.org/cwl/cwl#Directory',\n",
       "  'Dirent': 'https://w3id.org/cwl/cwl#Dirent',\n",
       "  'DockerRequirement': 'https://w3id.org/cwl/cwl#DockerRequirement',\n",
       "  'Documented': 'https://w3id.org/cwl/salad#Documented',\n",
       "  'EnumSchema': 'https://w3id.org/cwl/salad#EnumSchema',\n",
       "  'EnvVarRequirement': 'https://w3id.org/cwl/cwl#EnvVarRequirement',\n",
       "  'EnvironmentDef': 'https://w3id.org/cwl/cwl#EnvironmentDef',\n",
       "  'Expression': 'https://w3id.org/cwl/cwl#Expression',\n",
       "  'ExpressionPlaceholder': 'https://w3id.org/cwl/cwl#ExpressionPlaceholder',\n",
       "  'ExpressionTool': 'https://w3id.org/cwl/cwl#ExpressionTool',\n",
       "  'ExpressionToolOutputParameter': 'https://w3id.org/cwl/cwl#ExpressionToolOutputParameter',\n",
       "  'FieldBase': 'https://w3id.org/cwl/cwl#FieldBase',\n",
       "  'File': 'https://w3id.org/cwl/cwl#File',\n",
       "  'IOSchema': 'https://w3id.org/cwl/cwl#IOSchema',\n",
       "  'Identified': 'https://w3id.org/cwl/cwl#Identified',\n",
       "  'InitialWorkDirRequirement': 'https://w3id.org/cwl/cwl#InitialWorkDirRequirement',\n",
       "  'InlineJavascriptRequirement': 'https://w3id.org/cwl/cwl#InlineJavascriptRequirement',\n",
       "  'InplaceUpdateRequirement': 'https://w3id.org/cwl/cwl#InplaceUpdateRequirement',\n",
       "  'InputArraySchema': 'https://w3id.org/cwl/cwl#InputArraySchema',\n",
       "  'InputBinding': 'https://w3id.org/cwl/cwl#InputBinding',\n",
       "  'InputEnumSchema': 'https://w3id.org/cwl/cwl#InputEnumSchema',\n",
       "  'InputFormat': 'https://w3id.org/cwl/cwl#InputFormat',\n",
       "  'InputParameter': 'https://w3id.org/cwl/cwl#InputParameter',\n",
       "  'InputRecordField': 'https://w3id.org/cwl/cwl#InputRecordField',\n",
       "  'InputRecordSchema': 'https://w3id.org/cwl/cwl#InputRecordSchema',\n",
       "  'InputSchema': 'https://w3id.org/cwl/cwl#InputSchema',\n",
       "  'Labeled': 'https://w3id.org/cwl/cwl#Labeled',\n",
       "  'LinkMergeMethod': 'https://w3id.org/cwl/cwl#LinkMergeMethod',\n",
       "  'LoadContents': 'https://w3id.org/cwl/cwl#LoadContents',\n",
       "  'LoadListingEnum': 'https://w3id.org/cwl/cwl#LoadListingEnum',\n",
       "  'LoadListingRequirement': 'https://w3id.org/cwl/cwl#LoadListingRequirement',\n",
       "  'MultipleInputFeatureRequirement': 'https://w3id.org/cwl/cwl#MultipleInputFeatureRequirement',\n",
       "  'NetworkAccess': 'https://w3id.org/cwl/cwl#NetworkAccess',\n",
       "  'OutputArraySchema': 'https://w3id.org/cwl/cwl#OutputArraySchema',\n",
       "  'OutputEnumSchema': 'https://w3id.org/cwl/cwl#OutputEnumSchema',\n",
       "  'OutputFormat': 'https://w3id.org/cwl/cwl#OutputFormat',\n",
       "  'OutputParameter': 'https://w3id.org/cwl/cwl#OutputParameter',\n",
       "  'OutputRecordField': 'https://w3id.org/cwl/cwl#OutputRecordField',\n",
       "  'OutputRecordSchema': 'https://w3id.org/cwl/cwl#OutputRecordSchema',\n",
       "  'OutputSchema': 'https://w3id.org/cwl/cwl#OutputSchema',\n",
       "  'Parameter': 'https://w3id.org/cwl/cwl#Parameter',\n",
       "  'PrimitiveType': 'https://w3id.org/cwl/salad#PrimitiveType',\n",
       "  'Process': 'https://w3id.org/cwl/cwl#Process',\n",
       "  'ProcessRequirement': 'https://w3id.org/cwl/cwl#ProcessRequirement',\n",
       "  'RecordField': 'https://w3id.org/cwl/salad#RecordField',\n",
       "  'RecordSchema': 'https://w3id.org/cwl/salad#RecordSchema',\n",
       "  'ResourceRequirement': 'https://w3id.org/cwl/cwl#ResourceRequirement',\n",
       "  'ScatterFeatureRequirement': 'https://w3id.org/cwl/cwl#ScatterFeatureRequirement',\n",
       "  'ScatterMethod': 'https://w3id.org/cwl/cwl#ScatterMethod',\n",
       "  'SchemaDefRequirement': 'https://w3id.org/cwl/cwl#SchemaDefRequirement',\n",
       "  'SecondaryFileSchema': 'https://w3id.org/cwl/cwl#SecondaryFileSchema',\n",
       "  'ShellCommandRequirement': 'https://w3id.org/cwl/cwl#ShellCommandRequirement',\n",
       "  'Sink': 'https://w3id.org/cwl/cwl#Sink',\n",
       "  'SoftwarePackage': 'https://w3id.org/cwl/cwl#SoftwarePackage',\n",
       "  'SoftwareRequirement': 'https://w3id.org/cwl/cwl#SoftwareRequirement',\n",
       "  'StepInputExpressionRequirement': 'https://w3id.org/cwl/cwl#StepInputExpressionRequirement',\n",
       "  'SubworkflowFeatureRequirement': 'https://w3id.org/cwl/cwl#SubworkflowFeatureRequirement',\n",
       "  'ToolTimeLimit': 'https://w3id.org/cwl/cwl#ToolTimeLimit',\n",
       "  'WorkReuse': 'https://w3id.org/cwl/cwl#WorkReuse',\n",
       "  'Workflow': 'https://w3id.org/cwl/cwl#Workflow',\n",
       "  'WorkflowInputParameter': 'https://w3id.org/cwl/cwl#WorkflowInputParameter',\n",
       "  'WorkflowOutputParameter': 'https://w3id.org/cwl/cwl#WorkflowOutputParameter',\n",
       "  'WorkflowStep': 'https://w3id.org/cwl/cwl#WorkflowStep',\n",
       "  'WorkflowStepInput': 'https://w3id.org/cwl/cwl#WorkflowStepInput',\n",
       "  'WorkflowStepOutput': 'https://w3id.org/cwl/cwl#WorkflowStepOutput',\n",
       "  'array': 'https://w3id.org/cwl/salad#array',\n",
       "  'boolean': 'http://www.w3.org/2001/XMLSchema#boolean',\n",
       "  'deep_listing': 'https://w3id.org/cwl/cwl#LoadListingEnum/deep_listing',\n",
       "  'dotproduct': 'https://w3id.org/cwl/cwl#ScatterMethod/dotproduct',\n",
       "  'double': 'http://www.w3.org/2001/XMLSchema#double',\n",
       "  'draft-2': 'https://w3id.org/cwl/cwl#draft-2',\n",
       "  'draft-3': 'https://w3id.org/cwl/cwl#draft-3',\n",
       "  'draft-3.dev1': 'https://w3id.org/cwl/cwl#draft-3.dev1',\n",
       "  'draft-3.dev2': 'https://w3id.org/cwl/cwl#draft-3.dev2',\n",
       "  'draft-3.dev3': 'https://w3id.org/cwl/cwl#draft-3.dev3',\n",
       "  'draft-3.dev4': 'https://w3id.org/cwl/cwl#draft-3.dev4',\n",
       "  'draft-3.dev5': 'https://w3id.org/cwl/cwl#draft-3.dev5',\n",
       "  'draft-4.dev1': 'https://w3id.org/cwl/cwl#draft-4.dev1',\n",
       "  'draft-4.dev2': 'https://w3id.org/cwl/cwl#draft-4.dev2',\n",
       "  'draft-4.dev3': 'https://w3id.org/cwl/cwl#draft-4.dev3',\n",
       "  'enum': 'https://w3id.org/cwl/salad#enum',\n",
       "  'flat_crossproduct': 'https://w3id.org/cwl/cwl#ScatterMethod/flat_crossproduct',\n",
       "  'float': 'http://www.w3.org/2001/XMLSchema#float',\n",
       "  'int': 'http://www.w3.org/2001/XMLSchema#int',\n",
       "  'long': 'http://www.w3.org/2001/XMLSchema#long',\n",
       "  'merge_flattened': 'https://w3id.org/cwl/cwl#LinkMergeMethod/merge_flattened',\n",
       "  'merge_nested': 'https://w3id.org/cwl/cwl#LinkMergeMethod/merge_nested',\n",
       "  'nested_crossproduct': 'https://w3id.org/cwl/cwl#ScatterMethod/nested_crossproduct',\n",
       "  'no_listing': 'https://w3id.org/cwl/cwl#LoadListingEnum/no_listing',\n",
       "  'null': 'https://w3id.org/cwl/salad#null',\n",
       "  'record': 'https://w3id.org/cwl/salad#record',\n",
       "  'shallow_listing': 'https://w3id.org/cwl/cwl#LoadListingEnum/shallow_listing',\n",
       "  'stderr': 'https://w3id.org/cwl/cwl#stderr',\n",
       "  'stdin': 'https://w3id.org/cwl/cwl#stdin',\n",
       "  'stdout': 'https://w3id.org/cwl/cwl#stdout',\n",
       "  'string': 'http://www.w3.org/2001/XMLSchema#string',\n",
       "  'v1.0': 'https://w3id.org/cwl/cwl#v1.0',\n",
       "  'v1.0.dev4': 'https://w3id.org/cwl/cwl#v1.0.dev4',\n",
       "  'v1.1': 'https://w3id.org/cwl/cwl#v1.1',\n",
       "  'v1.1.0-dev1': 'https://w3id.org/cwl/cwl#v1.1.0-dev1'},\n",
       " 'rvocab': {'https://w3id.org/cwl/salad#Any': 'Any',\n",
       "  'https://w3id.org/cwl/salad#ArraySchema': 'ArraySchema',\n",
       "  'https://w3id.org/cwl/cwl#CWLType': 'CWLType',\n",
       "  'https://w3id.org/cwl/cwl#CWLVersion': 'CWLVersion',\n",
       "  'https://w3id.org/cwl/cwl#CommandInputArraySchema': 'CommandInputArraySchema',\n",
       "  'https://w3id.org/cwl/cwl#CommandInputEnumSchema': 'CommandInputEnumSchema',\n",
       "  'https://w3id.org/cwl/cwl#CommandInputParameter': 'CommandInputParameter',\n",
       "  'https://w3id.org/cwl/cwl#CommandInputRecordField': 'CommandInputRecordField',\n",
       "  'https://w3id.org/cwl/cwl#CommandInputRecordSchema': 'CommandInputRecordSchema',\n",
       "  'https://w3id.org/cwl/cwl#CommandInputSchema': 'CommandInputSchema',\n",
       "  'https://w3id.org/cwl/cwl#CommandLineBindable': 'CommandLineBindable',\n",
       "  'https://w3id.org/cwl/cwl#CommandLineBinding': 'CommandLineBinding',\n",
       "  'https://w3id.org/cwl/cwl#CommandLineTool': 'CommandLineTool',\n",
       "  'https://w3id.org/cwl/cwl#CommandOutputArraySchema': 'CommandOutputArraySchema',\n",
       "  'https://w3id.org/cwl/cwl#CommandOutputBinding': 'CommandOutputBinding',\n",
       "  'https://w3id.org/cwl/cwl#CommandOutputEnumSchema': 'CommandOutputEnumSchema',\n",
       "  'https://w3id.org/cwl/cwl#CommandOutputParameter': 'CommandOutputParameter',\n",
       "  'https://w3id.org/cwl/cwl#CommandOutputRecordField': 'CommandOutputRecordField',\n",
       "  'https://w3id.org/cwl/cwl#CommandOutputRecordSchema': 'CommandOutputRecordSchema',\n",
       "  'https://w3id.org/cwl/cwl#Directory': 'Directory',\n",
       "  'https://w3id.org/cwl/cwl#Dirent': 'Dirent',\n",
       "  'https://w3id.org/cwl/cwl#DockerRequirement': 'DockerRequirement',\n",
       "  'https://w3id.org/cwl/salad#Documented': 'Documented',\n",
       "  'https://w3id.org/cwl/salad#EnumSchema': 'EnumSchema',\n",
       "  'https://w3id.org/cwl/cwl#EnvVarRequirement': 'EnvVarRequirement',\n",
       "  'https://w3id.org/cwl/cwl#EnvironmentDef': 'EnvironmentDef',\n",
       "  'https://w3id.org/cwl/cwl#Expression': 'Expression',\n",
       "  'https://w3id.org/cwl/cwl#ExpressionPlaceholder': 'ExpressionPlaceholder',\n",
       "  'https://w3id.org/cwl/cwl#ExpressionTool': 'ExpressionTool',\n",
       "  'https://w3id.org/cwl/cwl#ExpressionToolOutputParameter': 'ExpressionToolOutputParameter',\n",
       "  'https://w3id.org/cwl/cwl#FieldBase': 'FieldBase',\n",
       "  'https://w3id.org/cwl/cwl#File': 'File',\n",
       "  'https://w3id.org/cwl/cwl#IOSchema': 'IOSchema',\n",
       "  'https://w3id.org/cwl/cwl#Identified': 'Identified',\n",
       "  'https://w3id.org/cwl/cwl#InitialWorkDirRequirement': 'InitialWorkDirRequirement',\n",
       "  'https://w3id.org/cwl/cwl#InlineJavascriptRequirement': 'InlineJavascriptRequirement',\n",
       "  'https://w3id.org/cwl/cwl#InplaceUpdateRequirement': 'InplaceUpdateRequirement',\n",
       "  'https://w3id.org/cwl/cwl#InputArraySchema': 'InputArraySchema',\n",
       "  'https://w3id.org/cwl/cwl#InputBinding': 'InputBinding',\n",
       "  'https://w3id.org/cwl/cwl#InputEnumSchema': 'InputEnumSchema',\n",
       "  'https://w3id.org/cwl/cwl#InputFormat': 'InputFormat',\n",
       "  'https://w3id.org/cwl/cwl#InputParameter': 'InputParameter',\n",
       "  'https://w3id.org/cwl/cwl#InputRecordField': 'InputRecordField',\n",
       "  'https://w3id.org/cwl/cwl#InputRecordSchema': 'InputRecordSchema',\n",
       "  'https://w3id.org/cwl/cwl#InputSchema': 'InputSchema',\n",
       "  'https://w3id.org/cwl/cwl#Labeled': 'Labeled',\n",
       "  'https://w3id.org/cwl/cwl#LinkMergeMethod': 'LinkMergeMethod',\n",
       "  'https://w3id.org/cwl/cwl#LoadContents': 'LoadContents',\n",
       "  'https://w3id.org/cwl/cwl#LoadListingEnum': 'LoadListingEnum',\n",
       "  'https://w3id.org/cwl/cwl#LoadListingRequirement': 'LoadListingRequirement',\n",
       "  'https://w3id.org/cwl/cwl#MultipleInputFeatureRequirement': 'MultipleInputFeatureRequirement',\n",
       "  'https://w3id.org/cwl/cwl#NetworkAccess': 'NetworkAccess',\n",
       "  'https://w3id.org/cwl/cwl#OutputArraySchema': 'OutputArraySchema',\n",
       "  'https://w3id.org/cwl/cwl#OutputEnumSchema': 'OutputEnumSchema',\n",
       "  'https://w3id.org/cwl/cwl#OutputFormat': 'OutputFormat',\n",
       "  'https://w3id.org/cwl/cwl#OutputParameter': 'OutputParameter',\n",
       "  'https://w3id.org/cwl/cwl#OutputRecordField': 'OutputRecordField',\n",
       "  'https://w3id.org/cwl/cwl#OutputRecordSchema': 'OutputRecordSchema',\n",
       "  'https://w3id.org/cwl/cwl#OutputSchema': 'OutputSchema',\n",
       "  'https://w3id.org/cwl/cwl#Parameter': 'Parameter',\n",
       "  'https://w3id.org/cwl/salad#PrimitiveType': 'PrimitiveType',\n",
       "  'https://w3id.org/cwl/cwl#Process': 'Process',\n",
       "  'https://w3id.org/cwl/cwl#ProcessRequirement': 'ProcessRequirement',\n",
       "  'https://w3id.org/cwl/salad#RecordField': 'RecordField',\n",
       "  'https://w3id.org/cwl/salad#RecordSchema': 'RecordSchema',\n",
       "  'https://w3id.org/cwl/cwl#ResourceRequirement': 'ResourceRequirement',\n",
       "  'https://w3id.org/cwl/cwl#ScatterFeatureRequirement': 'ScatterFeatureRequirement',\n",
       "  'https://w3id.org/cwl/cwl#ScatterMethod': 'ScatterMethod',\n",
       "  'https://w3id.org/cwl/cwl#SchemaDefRequirement': 'SchemaDefRequirement',\n",
       "  'https://w3id.org/cwl/cwl#SecondaryFileSchema': 'SecondaryFileSchema',\n",
       "  'https://w3id.org/cwl/cwl#ShellCommandRequirement': 'ShellCommandRequirement',\n",
       "  'https://w3id.org/cwl/cwl#Sink': 'Sink',\n",
       "  'https://w3id.org/cwl/cwl#SoftwarePackage': 'SoftwarePackage',\n",
       "  'https://w3id.org/cwl/cwl#SoftwareRequirement': 'SoftwareRequirement',\n",
       "  'https://w3id.org/cwl/cwl#StepInputExpressionRequirement': 'StepInputExpressionRequirement',\n",
       "  'https://w3id.org/cwl/cwl#SubworkflowFeatureRequirement': 'SubworkflowFeatureRequirement',\n",
       "  'https://w3id.org/cwl/cwl#ToolTimeLimit': 'ToolTimeLimit',\n",
       "  'https://w3id.org/cwl/cwl#WorkReuse': 'WorkReuse',\n",
       "  'https://w3id.org/cwl/cwl#Workflow': 'Workflow',\n",
       "  'https://w3id.org/cwl/cwl#WorkflowInputParameter': 'WorkflowInputParameter',\n",
       "  'https://w3id.org/cwl/cwl#WorkflowOutputParameter': 'WorkflowOutputParameter',\n",
       "  'https://w3id.org/cwl/cwl#WorkflowStep': 'WorkflowStep',\n",
       "  'https://w3id.org/cwl/cwl#WorkflowStepInput': 'WorkflowStepInput',\n",
       "  'https://w3id.org/cwl/cwl#WorkflowStepOutput': 'WorkflowStepOutput',\n",
       "  'https://w3id.org/cwl/salad#array': 'array',\n",
       "  'http://www.w3.org/2001/XMLSchema#boolean': 'boolean',\n",
       "  'https://w3id.org/cwl/cwl#LoadListingEnum/deep_listing': 'deep_listing',\n",
       "  'https://w3id.org/cwl/cwl#ScatterMethod/dotproduct': 'dotproduct',\n",
       "  'http://www.w3.org/2001/XMLSchema#double': 'double',\n",
       "  'https://w3id.org/cwl/cwl#draft-2': 'draft-2',\n",
       "  'https://w3id.org/cwl/cwl#draft-3': 'draft-3',\n",
       "  'https://w3id.org/cwl/cwl#draft-3.dev1': 'draft-3.dev1',\n",
       "  'https://w3id.org/cwl/cwl#draft-3.dev2': 'draft-3.dev2',\n",
       "  'https://w3id.org/cwl/cwl#draft-3.dev3': 'draft-3.dev3',\n",
       "  'https://w3id.org/cwl/cwl#draft-3.dev4': 'draft-3.dev4',\n",
       "  'https://w3id.org/cwl/cwl#draft-3.dev5': 'draft-3.dev5',\n",
       "  'https://w3id.org/cwl/cwl#draft-4.dev1': 'draft-4.dev1',\n",
       "  'https://w3id.org/cwl/cwl#draft-4.dev2': 'draft-4.dev2',\n",
       "  'https://w3id.org/cwl/cwl#draft-4.dev3': 'draft-4.dev3',\n",
       "  'https://w3id.org/cwl/salad#enum': 'enum',\n",
       "  'https://w3id.org/cwl/cwl#ScatterMethod/flat_crossproduct': 'flat_crossproduct',\n",
       "  'http://www.w3.org/2001/XMLSchema#float': 'float',\n",
       "  'http://www.w3.org/2001/XMLSchema#int': 'int',\n",
       "  'http://www.w3.org/2001/XMLSchema#long': 'long',\n",
       "  'https://w3id.org/cwl/cwl#LinkMergeMethod/merge_flattened': 'merge_flattened',\n",
       "  'https://w3id.org/cwl/cwl#LinkMergeMethod/merge_nested': 'merge_nested',\n",
       "  'https://w3id.org/cwl/cwl#ScatterMethod/nested_crossproduct': 'nested_crossproduct',\n",
       "  'https://w3id.org/cwl/cwl#LoadListingEnum/no_listing': 'no_listing',\n",
       "  'https://w3id.org/cwl/salad#null': 'null',\n",
       "  'https://w3id.org/cwl/salad#record': 'record',\n",
       "  'https://w3id.org/cwl/cwl#LoadListingEnum/shallow_listing': 'shallow_listing',\n",
       "  'https://w3id.org/cwl/cwl#stderr': 'stderr',\n",
       "  'https://w3id.org/cwl/cwl#stdin': 'stdin',\n",
       "  'https://w3id.org/cwl/cwl#stdout': 'stdout',\n",
       "  'http://www.w3.org/2001/XMLSchema#string': 'string',\n",
       "  'https://w3id.org/cwl/cwl#v1.0': 'v1.0',\n",
       "  'https://w3id.org/cwl/cwl#v1.0.dev4': 'v1.0.dev4',\n",
       "  'https://w3id.org/cwl/cwl#v1.1': 'v1.1',\n",
       "  'https://w3id.org/cwl/cwl#v1.1.0-dev1': 'v1.1.0-dev1'}}"
      ]
     },
     "execution_count": 74,
     "metadata": {},
     "output_type": "execute_result"
    }
   ],
   "source": [
    "x.loadingOptions.__dict__"
   ]
  },
  {
   "cell_type": "code",
   "execution_count": 51,
   "id": "022a8e8f",
   "metadata": {},
   "outputs": [
    {
     "name": "stdout",
     "output_type": "stream",
     "text": [
      "{'fields': {'bclconvert_data': {'doc': 'The array of bclconvert data objects\\n',\n",
      "                                'label': 'BCLConvert Data section',\n",
      "                                'type': {'items': {'$import': '../../../schemas/bclconvert-data-row/3.10.5/bclconvert-data-row__3.10.5.yaml#bclconvert-data-row'},\n",
      "                                         'type': 'array'}},\n",
      "            'bclconvert_settings': {'doc': 'The bclconvert settings used for '\n",
      "                                           'demux\\n',\n",
      "                                    'label': 'BCLConvert Settings section',\n",
      "                                    'type': [ordereddict([('$import', '.')])]},\n",
      "            'header': {'doc': 'The samplesheet header object\\n',\n",
      "                       'label': 'samplesheet header',\n",
      "                       'type': [ordereddict([('$import', '.')])]},\n",
      "            'reads': {'doc': 'The reads\\n',\n",
      "                      'label': 'reads',\n",
      "                      'type': [ordereddict([('$import', '.')])]}},\n",
      " 'name': 'samplesheet',\n",
      " 'type': 'record'}\n"
     ]
    }
   ],
   "source": [
    "pprint(dict(x.type))"
   ]
  },
  {
   "cell_type": "code",
   "execution_count": 18,
   "id": "0d480e56",
   "metadata": {},
   "outputs": [
    {
     "ename": "ValidationException",
     "evalue": "- tried _RecordLoader but\n  Not a CommandLineTool\n- tried _RecordLoader but\n  Not a ExpressionTool\n- tried _RecordLoader but\n  Not a Workflow\n- tried _ArrayLoader but\n  Expected a list",
     "output_type": "error",
     "traceback": [
      "\u001b[0;31m---------------------------------------------------------------------------\u001b[0m",
      "\u001b[0;31mValidationException\u001b[0m                       Traceback (most recent call last)",
      "Input \u001b[0;32mIn [18]\u001b[0m, in \u001b[0;36m<cell line: 1>\u001b[0;34m()\u001b[0m\n\u001b[0;32m----> 1\u001b[0m \u001b[43mload_document_by_yaml\u001b[49m\u001b[43m(\u001b[49m\u001b[43mx\u001b[49m\u001b[43m,\u001b[49m\u001b[43m \u001b[49m\u001b[43mCWL_FILE_PATH\u001b[49m\u001b[38;5;241;43m.\u001b[39;49m\u001b[43mabsolute\u001b[49m\u001b[43m(\u001b[49m\u001b[43m)\u001b[49m\u001b[38;5;241;43m.\u001b[39;49m\u001b[43mas_uri\u001b[49m\u001b[43m(\u001b[49m\u001b[43m)\u001b[49m\u001b[43m)\u001b[49m\n",
      "File \u001b[0;32m~/mambaforge/envs/cwl-ica/lib/python3.8/site-packages/cwl_utils/parser_v1_1.py:12164\u001b[0m, in \u001b[0;36mload_document_by_yaml\u001b[0;34m(yaml, uri, loadingOptions)\u001b[0m\n\u001b[1;32m  12161\u001b[0m     loadingOptions \u001b[38;5;241m=\u001b[39m LoadingOptions(fileuri\u001b[38;5;241m=\u001b[39muri)\n\u001b[1;32m  12162\u001b[0m loadingOptions\u001b[38;5;241m.\u001b[39midx[uri] \u001b[38;5;241m=\u001b[39m yaml\n\u001b[0;32m> 12164\u001b[0m \u001b[38;5;28;01mreturn\u001b[39;00m \u001b[43m_document_load\u001b[49m\u001b[43m(\u001b[49m\u001b[43munion_of_CommandLineToolLoader_or_ExpressionToolLoader_or_WorkflowLoader_or_array_of_union_of_CommandLineToolLoader_or_ExpressionToolLoader_or_WorkflowLoader\u001b[49m\u001b[43m,\u001b[49m\u001b[43m \u001b[49m\u001b[43myaml\u001b[49m\u001b[43m,\u001b[49m\u001b[43m \u001b[49m\u001b[43muri\u001b[49m\u001b[43m,\u001b[49m\u001b[43m \u001b[49m\u001b[43mloadingOptions\u001b[49m\u001b[43m)\u001b[49m\n",
      "File \u001b[0;32m~/mambaforge/envs/cwl-ica/lib/python3.8/site-packages/cwl_utils/parser_v1_1.py:557\u001b[0m, in \u001b[0;36m_document_load\u001b[0;34m(loader, doc, baseuri, loadingOptions)\u001b[0m\n\u001b[1;32m    555\u001b[0m         \u001b[38;5;28;01mreturn\u001b[39;00m loader\u001b[38;5;241m.\u001b[39mload(doc[\u001b[38;5;124m\"\u001b[39m\u001b[38;5;124m$graph\u001b[39m\u001b[38;5;124m\"\u001b[39m], baseuri, loadingOptions)\n\u001b[1;32m    556\u001b[0m     \u001b[38;5;28;01melse\u001b[39;00m:\n\u001b[0;32m--> 557\u001b[0m         \u001b[38;5;28;01mreturn\u001b[39;00m \u001b[43mloader\u001b[49m\u001b[38;5;241;43m.\u001b[39;49m\u001b[43mload\u001b[49m\u001b[43m(\u001b[49m\u001b[43mdoc\u001b[49m\u001b[43m,\u001b[49m\u001b[43m \u001b[49m\u001b[43mbaseuri\u001b[49m\u001b[43m,\u001b[49m\u001b[43m \u001b[49m\u001b[43mloadingOptions\u001b[49m\u001b[43m,\u001b[49m\u001b[43m \u001b[49m\u001b[43mdocRoot\u001b[49m\u001b[38;5;241;43m=\u001b[39;49m\u001b[43mbaseuri\u001b[49m\u001b[43m)\u001b[49m\n\u001b[1;32m    559\u001b[0m \u001b[38;5;28;01mif\u001b[39;00m \u001b[38;5;28misinstance\u001b[39m(doc, MutableSequence):\n\u001b[1;32m    560\u001b[0m     \u001b[38;5;28;01mreturn\u001b[39;00m loader\u001b[38;5;241m.\u001b[39mload(doc, baseuri, loadingOptions)\n",
      "File \u001b[0;32m~/mambaforge/envs/cwl-ica/lib/python3.8/site-packages/cwl_utils/parser_v1_1.py:394\u001b[0m, in \u001b[0;36m_UnionLoader.load\u001b[0;34m(self, doc, baseuri, loadingOptions, docRoot)\u001b[0m\n\u001b[1;32m    390\u001b[0m     \u001b[38;5;28;01mexcept\u001b[39;00m ValidationException \u001b[38;5;28;01mas\u001b[39;00m e:\n\u001b[1;32m    391\u001b[0m         errors\u001b[38;5;241m.\u001b[39mappend(\n\u001b[1;32m    392\u001b[0m             ValidationException(\u001b[38;5;124mf\u001b[39m\u001b[38;5;124m\"\u001b[39m\u001b[38;5;124mtried \u001b[39m\u001b[38;5;132;01m{\u001b[39;00mt\u001b[38;5;241m.\u001b[39m\u001b[38;5;18m__class__\u001b[39m\u001b[38;5;241m.\u001b[39m\u001b[38;5;18m__name__\u001b[39m\u001b[38;5;132;01m}\u001b[39;00m\u001b[38;5;124m but\u001b[39m\u001b[38;5;124m\"\u001b[39m, \u001b[38;5;28;01mNone\u001b[39;00m, [e])\n\u001b[1;32m    393\u001b[0m         )\n\u001b[0;32m--> 394\u001b[0m \u001b[38;5;28;01mraise\u001b[39;00m ValidationException(\u001b[38;5;124m\"\u001b[39m\u001b[38;5;124m\"\u001b[39m, \u001b[38;5;28;01mNone\u001b[39;00m, errors, \u001b[38;5;124m\"\u001b[39m\u001b[38;5;124m-\u001b[39m\u001b[38;5;124m\"\u001b[39m)\n",
      "\u001b[0;31mValidationException\u001b[0m: - tried _RecordLoader but\n  Not a CommandLineTool\n- tried _RecordLoader but\n  Not a ExpressionTool\n- tried _RecordLoader but\n  Not a Workflow\n- tried _ArrayLoader but\n  Expected a list"
     ]
    }
   ],
   "source": [
    "load_document_by_yaml(x, CWL_FILE_PATH.absolute().as_uri())"
   ]
  },
  {
   "cell_type": "code",
   "execution_count": 38,
   "id": "f80e63c2",
   "metadata": {},
   "outputs": [],
   "source": [
    "from cwltool import schemas"
   ]
  },
  {
   "cell_type": "code",
   "execution_count": 45,
   "id": "f018e7b6",
   "metadata": {},
   "outputs": [],
   "source": [
    "from typing import (\n",
    "    IO,\n",
    "    Any,\n",
    "    Callable,\n",
    "    Dict,\n",
    "    Generator,\n",
    "    Iterable,\n",
    "    List,\n",
    "    MutableMapping,\n",
    "    MutableSequence,\n",
    "    NamedTuple,\n",
    "    Optional,\n",
    "    Set,\n",
    "    Tuple,\n",
    "    Union,\n",
    "    cast,\n",
    ")\n"
   ]
  },
  {
   "cell_type": "code",
   "execution_count": 46,
   "id": "ddb76614",
   "metadata": {},
   "outputs": [],
   "source": [
    "def visit_field(rec: Any, field: str, op: Callable[..., Any]) -> None:\n",
    "    \"\"\"Apply a function to mapping with 'field'.\"\"\"\n",
    "    if isinstance(rec, MutableMapping):\n",
    "        if field in rec:\n",
    "            rec[field] = op(rec[field])\n",
    "        for d in rec:\n",
    "            visit_field(rec[d], field, op)\n",
    "    if isinstance(rec, MutableSequence):\n",
    "        for d in rec:\n",
    "            visit_field(d, field, op)"
   ]
  },
  {
   "cell_type": "code",
   "execution_count": 52,
   "id": "050f4a47",
   "metadata": {},
   "outputs": [
    {
     "ename": "TypeError",
     "evalue": "visit_field() missing 1 required positional argument: 'op'",
     "output_type": "error",
     "traceback": [
      "\u001b[0;31m---------------------------------------------------------------------------\u001b[0m",
      "\u001b[0;31mTypeError\u001b[0m                                 Traceback (most recent call last)",
      "Input \u001b[0;32mIn [52]\u001b[0m, in \u001b[0;36m<cell line: 1>\u001b[0;34m()\u001b[0m\n\u001b[0;32m----> 1\u001b[0m \u001b[43mvisit_field\u001b[49m\u001b[43m(\u001b[49m\u001b[43mx\u001b[49m\u001b[38;5;241;43m.\u001b[39;49m\u001b[43mtype\u001b[49m\u001b[38;5;241;43m.\u001b[39;49m\u001b[43mget\u001b[49m\u001b[43m(\u001b[49m\u001b[38;5;124;43m\"\u001b[39;49m\u001b[38;5;124;43mfields\u001b[39;49m\u001b[38;5;124;43m\"\u001b[39;49m\u001b[43m)\u001b[49m\u001b[43m,\u001b[49m\u001b[43m \u001b[49m\u001b[38;5;124;43m\"\u001b[39;49m\u001b[38;5;124;43mbclconvert_data\u001b[39;49m\u001b[38;5;124;43m\"\u001b[39;49m\u001b[43m)\u001b[49m\n",
      "\u001b[0;31mTypeError\u001b[0m: visit_field() missing 1 required positional argument: 'op'"
     ]
    }
   ],
   "source": [
    "visit_field(x.type.get(\"fields\"), \"bclconvert_data\")"
   ]
  },
  {
   "cell_type": "code",
   "execution_count": 59,
   "id": "22e3636a",
   "metadata": {},
   "outputs": [],
   "source": [
    "y = x.type\n",
    "\n",
    "assert y.get(\"type\") == \"record\""
   ]
  },
  {
   "cell_type": "code",
   "execution_count": 61,
   "id": "c70039ca",
   "metadata": {},
   "outputs": [
    {
     "name": "stdout",
     "output_type": "stream",
     "text": [
      "{'bclconvert_data': {'doc': 'The array of bclconvert data objects\\n',\n",
      "                     'label': 'BCLConvert Data section',\n",
      "                     'type': {'items': {'$import': '../../../schemas/bclconvert-data-row/3.10.5/bclconvert-data-row__3.10.5.yaml#bclconvert-data-row'},\n",
      "                              'type': 'array'}},\n",
      " 'bclconvert_settings': {'doc': 'The bclconvert settings used for demux\\n',\n",
      "                         'label': 'BCLConvert Settings section',\n",
      "                         'type': [ordereddict([('$import', '.')])]},\n",
      " 'header': {'doc': 'The samplesheet header object\\n',\n",
      "            'label': 'samplesheet header',\n",
      "            'type': [ordereddict([('$import', '.')])]},\n",
      " 'reads': {'doc': 'The reads\\n',\n",
      "           'label': 'reads',\n",
      "           'type': [ordereddict([('$import', '.')])]}}\n"
     ]
    }
   ],
   "source": [
    "pprint(y.get(\"fields\"))"
   ]
  },
  {
   "cell_type": "code",
   "execution_count": 67,
   "id": "d860df2f",
   "metadata": {},
   "outputs": [
    {
     "name": "stdout",
     "output_type": "stream",
     "text": [
      "Field key header\n",
      "Field dict:\n",
      "{   'doc': 'The samplesheet header object\\n',\n",
      "    'label': 'samplesheet header',\n",
      "    'type': [ordereddict([('$import', '.')])]}\n",
      "Field key reads\n",
      "Field dict:\n",
      "{   'doc': 'The reads\\n',\n",
      "    'label': 'reads',\n",
      "    'type': [ordereddict([('$import', '.')])]}\n",
      "Field key bclconvert_settings\n",
      "Field dict:\n",
      "{   'doc': 'The bclconvert settings used for demux\\n',\n",
      "    'label': 'BCLConvert Settings section',\n",
      "    'type': [ordereddict([('$import', '.')])]}\n",
      "Field key bclconvert_data\n",
      "Field dict:\n",
      "{   'doc': 'The array of bclconvert data objects\\n',\n",
      "    'label': 'BCLConvert Data section',\n",
      "    'type': {   'items': {   '$import': '../../../schemas/bclconvert-data-row/3.10.5/bclconvert-data-row__3.10.5.yaml#bclconvert-data-row'},\n",
      "                'type': 'array'}}\n"
     ]
    }
   ],
   "source": [
    "for field_key, field_dict in y.get(\"fields\").items():\n",
    "    print(f\"Field key {field_key}\")\n",
    "    print(f\"Field dict:\")\n",
    "    pprint(field_dict, indent=4)"
   ]
  },
  {
   "cell_type": "code",
   "execution_count": 68,
   "id": "ef754be8",
   "metadata": {},
   "outputs": [
    {
     "data": {
      "text/plain": [
       "ordereddict([('label', 'BCLConvert Settings section'), ('doc', 'The bclconvert settings used for demux\\n'), ('type', [ordereddict([('$import', '.')])])])"
      ]
     },
     "execution_count": 68,
     "metadata": {},
     "output_type": "execute_result"
    }
   ],
   "source": [
    "y.get(\"fields\").get(\"bclconvert_settings\")"
   ]
  },
  {
   "cell_type": "code",
   "execution_count": 69,
   "id": "893a0e1e",
   "metadata": {},
   "outputs": [
    {
     "data": {
      "text/plain": [
       "[ordereddict([('$import', '.')])]"
      ]
     },
     "execution_count": 69,
     "metadata": {},
     "output_type": "execute_result"
    }
   ],
   "source": [
    "y.get(\"fields\").get(\"bclconvert_settings\").get(\"type\")"
   ]
  },
  {
   "cell_type": "code",
   "execution_count": null,
   "id": "d6e015f0",
   "metadata": {},
   "outputs": [],
   "source": []
  }
 ],
 "metadata": {
  "kernelspec": {
   "display_name": "Python 3 (ipykernel)",
   "language": "python",
   "name": "python3"
  },
  "language_info": {
   "codemirror_mode": {
    "name": "ipython",
    "version": 3
   },
   "file_extension": ".py",
   "mimetype": "text/x-python",
   "name": "python",
   "nbconvert_exporter": "python",
   "pygments_lexer": "ipython3",
   "version": "3.8.13"
  }
 },
 "nbformat": 4,
 "nbformat_minor": 5
}
